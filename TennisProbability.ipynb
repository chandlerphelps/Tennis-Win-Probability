{
 "cells": [
  {
   "cell_type": "markdown",
   "metadata": {},
   "source": [
    "# Live Tennis Probability without Player ID"
   ]
  },
  {
   "cell_type": "markdown",
   "metadata": {},
   "source": [
    "## Summary\n",
    "#### In this document I highlight three possible approaches each with unique upsides and downsides. I'll summarize each approach,  present some results, and discuss the outlook of each method. Finally I'll recommend a single method going forward."
   ]
  },
  {
   "cell_type": "markdown",
   "metadata": {},
   "source": [
    "## Data Exploration"
   ]
  },
  {
   "cell_type": "code",
   "execution_count": 3,
   "metadata": {
    "collapsed": true
   },
   "outputs": [],
   "source": [
    "import pandas as pd\n",
    "import matplotlib.pyplot as plt\n",
    "import numpy as np\n",
    "import time as tm\n",
    "\n",
    "path = 'C:/Users/u5677455/Dropbox/DataSciencePortfolio/GeniusSports/Data/'\n",
    "df = pd.read_csv(path+'tennis_match_data.csv')"
   ]
  },
  {
   "cell_type": "code",
   "execution_count": 4,
   "metadata": {},
   "outputs": [
    {
     "data": {
      "text/plain": [
       "(610381, 9)"
      ]
     },
     "execution_count": 4,
     "metadata": {},
     "output_type": "execute_result"
    }
   ],
   "source": [
    "# Size of the Dataset\n",
    "df.shape"
   ]
  },
  {
   "cell_type": "code",
   "execution_count": 5,
   "metadata": {},
   "outputs": [
    {
     "data": {
      "image/png": "[encoded data removed]",
      "text/plain": [
       "<matplotlib.figure.Figure at 0xa33ed30>"
      ]
     },
     "metadata": {},
     "output_type": "display_data"
    }
   ],
   "source": [
    "# Rows per fixture\n",
    "plt.hist(df.groupby(['FixtureId'])['FixtureId'].count())\n",
    "plt.show()\n",
    "#The theoretical minimum points required to play is 48, so having any match < 50 is concerning. This might be a medical timeout match."
   ]
  },
  {
   "cell_type": "code",
   "execution_count": 6,
   "metadata": {},
   "outputs": [
    {
     "data": {
      "text/html": [
       "<div>\n",
       "<style>\n",
       "    .dataframe thead tr:only-child th {\n",
       "        text-align: right;\n",
       "    }\n",
       "\n",
       "    .dataframe thead th {\n",
       "        text-align: left;\n",
       "    }\n",
       "\n",
       "    .dataframe tbody tr th {\n",
       "        vertical-align: top;\n",
       "    }\n",
       "</style>\n",
       "<table border=\"1\" class=\"dataframe\">\n",
       "  <thead>\n",
       "    <tr style=\"text-align: right;\">\n",
       "      <th></th>\n",
       "      <th>FixtureId</th>\n",
       "      <th>Competitor1CurrentGameScorePoints</th>\n",
       "      <th>Competitor1CurrentSetScore</th>\n",
       "      <th>Competitor1MatchScore</th>\n",
       "      <th>Competitor2CurrentGameScorePoints</th>\n",
       "      <th>Competitor2CurrentSetScore</th>\n",
       "      <th>Competitor2MatchScore</th>\n",
       "      <th>Serving</th>\n",
       "      <th>StateOfPlay</th>\n",
       "    </tr>\n",
       "  </thead>\n",
       "  <tbody>\n",
       "    <tr>\n",
       "      <th>4260</th>\n",
       "      <td>3221789</td>\n",
       "      <td>0</td>\n",
       "      <td>0</td>\n",
       "      <td>0</td>\n",
       "      <td>0</td>\n",
       "      <td>0</td>\n",
       "      <td>0</td>\n",
       "      <td>2</td>\n",
       "      <td>PointInProgress</td>\n",
       "    </tr>\n",
       "    <tr>\n",
       "      <th>4261</th>\n",
       "      <td>3221789</td>\n",
       "      <td>1</td>\n",
       "      <td>0</td>\n",
       "      <td>0</td>\n",
       "      <td>0</td>\n",
       "      <td>0</td>\n",
       "      <td>0</td>\n",
       "      <td>2</td>\n",
       "      <td>BetweenPoints</td>\n",
       "    </tr>\n",
       "    <tr>\n",
       "      <th>4262</th>\n",
       "      <td>3221789</td>\n",
       "      <td>2</td>\n",
       "      <td>0</td>\n",
       "      <td>0</td>\n",
       "      <td>0</td>\n",
       "      <td>0</td>\n",
       "      <td>0</td>\n",
       "      <td>2</td>\n",
       "      <td>BetweenPoints</td>\n",
       "    </tr>\n",
       "    <tr>\n",
       "      <th>4263</th>\n",
       "      <td>3221789</td>\n",
       "      <td>3</td>\n",
       "      <td>0</td>\n",
       "      <td>0</td>\n",
       "      <td>0</td>\n",
       "      <td>0</td>\n",
       "      <td>0</td>\n",
       "      <td>2</td>\n",
       "      <td>BetweenPoints</td>\n",
       "    </tr>\n",
       "    <tr>\n",
       "      <th>4264</th>\n",
       "      <td>3221789</td>\n",
       "      <td>0</td>\n",
       "      <td>1</td>\n",
       "      <td>0</td>\n",
       "      <td>0</td>\n",
       "      <td>0</td>\n",
       "      <td>0</td>\n",
       "      <td>1</td>\n",
       "      <td>BetweenPoints</td>\n",
       "    </tr>\n",
       "  </tbody>\n",
       "</table>\n",
       "</div>"
      ],
      "text/plain": [
       "      FixtureId  Competitor1CurrentGameScorePoints  \\\n",
       "4260    3221789                                  0   \n",
       "4261    3221789                                  1   \n",
       "4262    3221789                                  2   \n",
       "4263    3221789                                  3   \n",
       "4264    3221789                                  0   \n",
       "\n",
       "      Competitor1CurrentSetScore  Competitor1MatchScore  \\\n",
       "4260                           0                      0   \n",
       "4261                           0                      0   \n",
       "4262                           0                      0   \n",
       "4263                           0                      0   \n",
       "4264                           1                      0   \n",
       "\n",
       "      Competitor2CurrentGameScorePoints  Competitor2CurrentSetScore  \\\n",
       "4260                                  0                           0   \n",
       "4261                                  0                           0   \n",
       "4262                                  0                           0   \n",
       "4263                                  0                           0   \n",
       "4264                                  0                           0   \n",
       "\n",
       "      Competitor2MatchScore  Serving      StateOfPlay  \n",
       "4260                      0        2  PointInProgress  \n",
       "4261                      0        2    BetweenPoints  \n",
       "4262                      0        2    BetweenPoints  \n",
       "4263                      0        2    BetweenPoints  \n",
       "4264                      0        1    BetweenPoints  "
      ]
     },
     "execution_count": 6,
     "metadata": {},
     "output_type": "execute_result"
    }
   ],
   "source": [
    "# Investigating the games that seem too quick\n",
    "# I used Spyder to open the entire dataframe and found that there is simply data missing for these matches, but there's always a winner reported. No medical timeouts anywhere. With the method I use in this section, each match needs to be complete. I don't spend the time to clean it, and there will be some bugs at the end, but the proof of concept will still work.\n",
    "df.loc[df.groupby(['FixtureId'])['FixtureId'].transform('count') < 60,:].head()"
   ]
  },
  {
   "cell_type": "code",
   "execution_count": 7,
   "metadata": {},
   "outputs": [
    {
     "data": {
      "text/plain": [
       "(604438, 9)"
      ]
     },
     "execution_count": 7,
     "metadata": {},
     "output_type": "execute_result"
    }
   ],
   "source": [
    "#Dropping the matches with fewer than 75 rows\n",
    "df = df.loc[df.groupby(['FixtureId'])['FixtureId'].transform('count') >= 75,:]\n",
    "df.shape\n",
    "#Dropped about 6000 rows"
   ]
  },
  {
   "cell_type": "code",
   "execution_count": 8,
   "metadata": {},
   "outputs": [
    {
     "data": {
      "text/plain": [
       "StateOfPlay\n",
       "BetweenPoints                  595278\n",
       "Challenge                          22\n",
       "MedicalTimeoutCompetitorOne         2\n",
       "MedicalTimeoutCompetitorTwo         3\n",
       "PlaySuspended                      66\n",
       "PointInProgress                  4635\n",
       "ShortDelay                         32\n",
       "WinnerCompetitorOne              2275\n",
       "WinnerCompetitorTwo              2125\n",
       "Name: StateOfPlay, dtype: int64"
      ]
     },
     "execution_count": 8,
     "metadata": {},
     "output_type": "execute_result"
    }
   ],
   "source": [
    "# Tabulate the different StateOfPlay values\n",
    "df.groupby(['StateOfPlay'])['StateOfPlay'].count()\n",
    "# Looks like suspended play, delays, and medical timeouts are rare\n",
    "# Medical timeouts are almost certainly informative, but in this approach I won't account for them. The machine learning approaches will account for them and I can investigate there."
   ]
  },
  {
   "cell_type": "code",
   "execution_count": 9,
   "metadata": {},
   "outputs": [
    {
     "data": {
      "text/plain": [
       "4397"
      ]
     },
     "execution_count": 9,
     "metadata": {},
     "output_type": "execute_result"
    }
   ],
   "source": [
    "# Does each fixture have a match winner?\n",
    "df.groupby(['FixtureId'])['FixtureId'].unique().count()"
   ]
  },
  {
   "cell_type": "code",
   "execution_count": 10,
   "metadata": {},
   "outputs": [
    {
     "data": {
      "text/plain": [
       "4400"
      ]
     },
     "execution_count": 10,
     "metadata": {},
     "output_type": "execute_result"
    }
   ],
   "source": [
    "df.StateOfPlay.str.contains('WinnerCompetitor').astype(int).sum()"
   ]
  },
  {
   "cell_type": "code",
   "execution_count": 11,
   "metadata": {},
   "outputs": [
    {
     "data": {
      "text/plain": [
       "604438"
      ]
     },
     "execution_count": 11,
     "metadata": {},
     "output_type": "execute_result"
    }
   ],
   "source": [
    "# Finding fixtures that don't have a match winner or declare more than one\n",
    "df.loc[:,'winner'] = df.StateOfPlay.str.contains('WinnerCompetitor').astype(int)\n",
    "df.loc[:,'winner'] = df.groupby(['FixtureId'])['winner'].transform('sum')\n",
    "len(df.loc[df.groupby(['FixtureId'])['winner'].transform('sum')!=1,:])"
   ]
  },
  {
   "cell_type": "code",
   "execution_count": 12,
   "metadata": {},
   "outputs": [
    {
     "data": {
      "text/plain": [
       "(604341, 10)"
      ]
     },
     "execution_count": 12,
     "metadata": {},
     "output_type": "execute_result"
    }
   ],
   "source": [
    "# Dropping the fixtures where the winner isn't declared exactly once\n",
    "df = df.loc[df['winner']==1,:]\n",
    "df.shape\n",
    "# Looks like there was only a single match with 97 rows where the same winner was declared 4 times"
   ]
  },
  {
   "cell_type": "markdown",
   "metadata": {},
   "source": [
    "There were a few other strange things that cropped up (like inconsistency in whether tiebreakers were played in the 3rd set or not), but in interest of time, and per instructions to focus on analysis I make due with the data in this state."
   ]
  },
  {
   "cell_type": "markdown",
   "metadata": {},
   "source": [
    "## Method 1: Markov Chain\n",
    "##### The goal here was to obtain a theoretical understanding of the problem to get a sense of the nuances in calculating probability in tennis.\n",
    "\n",
    "##### This method is based on three papers found here: \n",
    "https://pdfs.semanticscholar.org/e870/8ca24b8f67476b3284ec22ccb689dc6229be.pdf  \n",
    "http://strategicgames.com.au/article2.pdf  \n",
    "http://strategicgames.com.au/excel.pdf\n",
    "##### A more succinct introduction to the method: \n",
    "https://www.betfair.com.au/hub/news/tennis/tennis-modelling-point-based-models/  \n",
    "##### Basically using a Markov Chain you can estimate the probability winning even with almost no data at all. The only thing you need to know is the probability of winning a service point and a return point for each player. This can be estimated from tour averages if we can't identify the players. The analysis for this method is much more light than the others because we have data, and I figured using it would be a good idea. In any case I thought I'd show the method for times when data is extremely limited.\n",
    "\n",
    "#### Here is a quick example table showing the probabilities of winning a game and set using Excel"
   ]
  },
  {
   "cell_type": "markdown",
   "metadata": {},
   "source": [
    "![image](https://i.imgur.com/Ck0HAuUl.png)"
   ]
  },
  {
   "cell_type": "markdown",
   "metadata": {},
   "source": [
    "### Evaluation\n",
    "##### Upsides\n",
    "•\tTransparent  \n",
    "•\tPossible with limited data \n",
    "##### Downsides\n",
    "•\tLimited room for improvement from data, what you calculate at the start is what you get\n",
    "##### Outlook\n",
    "•\tNo point in further work as we have the data to get a better model"
   ]
  },
  {
   "cell_type": "markdown",
   "metadata": {},
   "source": [
    "## Method 2: Data Mining\n",
    "##### This method was again part of the excercise of understanding the problem, and trying to apply probability in a more theoretical manner where simplifying assumptions are critical. I'm building my own very basic (and extremely over-fitted) classifier in this section.\n",
    "\n",
    "##### This can be distinguished as a nonparametric direct inference from the data. Basically, I assume all games and sets are iid, and calculate the probability of winning a game of a certain score based on the average game winner across the whole dataset, then I do the same for the set score, then again the same based on match score. I then use a probability tree to find the final chance of player 1 winning based on the current game, set, and match scores.\n",
    "\n",
    "### Data Prep\n",
    "##### Create GameId and SetId"
   ]
  },
  {
   "cell_type": "code",
   "execution_count": 13,
   "metadata": {
    "collapsed": true
   },
   "outputs": [],
   "source": [
    "df['GameId'] = ((df.Competitor1CurrentGameScorePoints==0) & (df.Competitor2CurrentGameScorePoints==0)).astype(int)\n",
    "df['GameId'] = df.GameId.cumsum()\n",
    "\n",
    "df['SetId'] = ((df.Competitor1CurrentGameScorePoints==0) & (df.Competitor2CurrentGameScorePoints==0) &  \n",
    "              (df.Competitor1CurrentSetScore==0) & (df.Competitor2CurrentSetScore==0)).astype(int)\n",
    "df['SetId'] = df.SetId.cumsum()"
   ]
  },
  {
   "cell_type": "markdown",
   "metadata": {},
   "source": [
    "##### Replace high game and set score numbers with adv/deuce equivalents\n",
    "The reason for this is the probability of winning a game or set ought to only depend on the score diff, not the raw score when above a deuce. This is necessary to avoid tiny sample sizes determining probability at high game and scores."
   ]
  },
  {
   "cell_type": "code",
   "execution_count": 14,
   "metadata": {
    "collapsed": true
   },
   "outputs": [],
   "source": [
    "df['MatchScoreDiff'] = df.Competitor1MatchScore - df.Competitor2MatchScore\n",
    "df['MatchScoreSum'] = df.Competitor1MatchScore + df.Competitor2MatchScore\n",
    "\n",
    "\n",
    "# GAMES\n",
    "df['GameScoreDiff'] = df.Competitor1CurrentGameScorePoints - df.Competitor2CurrentGameScorePoints\n",
    "df['GameScoreSum'] = df.Competitor1CurrentGameScorePoints + df.Competitor2CurrentGameScorePoints\n",
    "\n",
    "df['Comp1GameScore'] = df.Competitor1CurrentGameScorePoints\n",
    "df['Comp2GameScore'] = df.Competitor2CurrentGameScorePoints\n",
    "\n",
    "# get an indicator for a tiebreaker being played\n",
    "df['Tiebreaker'] = ((df.MatchScoreSum<2) & (df.Competitor1CurrentSetScore==6) \n",
    "        & (df.Competitor2CurrentSetScore==6)).astype(int)\n",
    "\n",
    "# replace both competitor's scores with 3 if deuce (only for non-tiebreaker games)\n",
    "df.loc[((df.GameScoreDiff==0)&(df.GameScoreSum>7)&(df.Tiebreaker==0)),('Comp1GameScore','Comp2GameScore')] = 3\n",
    "\n",
    "# give score of 4 for advantage competitor for non-tiebreaker games\n",
    "df.loc[((df.GameScoreDiff==1)&(df.GameScoreSum>7)&(df.Tiebreaker==0)),'Comp1GameScore'] = 4\n",
    "df.loc[((df.GameScoreDiff==1)&(df.GameScoreSum>7)&(df.Tiebreaker==0)),'Comp2GameScore'] = 3\n",
    "\n",
    "df.loc[((df.GameScoreDiff==-1)&(df.GameScoreSum>7)&(df.Tiebreaker==0)),'Comp2GameScore'] = 4\n",
    "df.loc[((df.GameScoreDiff==-1)&(df.GameScoreSum>7)&(df.Tiebreaker==0)),'Comp1GameScore'] = 3\n",
    "\n",
    "# now repeat a similar process for tiebreaker games\n",
    "df.loc[((df.GameScoreDiff==0)&(df.GameScoreSum>13)&(df.Tiebreaker==1)),('Comp1GameScore','Comp2GameScore')] = 6\n",
    "\n",
    "df.loc[((df.GameScoreDiff==1)&(df.GameScoreSum>13)&(df.Tiebreaker==1)),'Comp1GameScore'] = 7\n",
    "df.loc[((df.GameScoreDiff==1)&(df.GameScoreSum>13)&(df.Tiebreaker==1)),'Comp2GameScore'] = 6\n",
    "\n",
    "df.loc[((df.GameScoreDiff==-1)&(df.GameScoreSum>13)&(df.Tiebreaker==1)),'Comp2GameScore'] = 7\n",
    "df.loc[((df.GameScoreDiff==-1)&(df.GameScoreSum>13)&(df.Tiebreaker==1)),'Comp1GameScore'] = 6\n",
    "\n",
    "\n",
    "# SETS\n",
    "df['SetScoreDiff'] = df.Competitor1CurrentSetScore - df.Competitor2CurrentSetScore\n",
    "df['SetScoreSum'] = df.Competitor1CurrentSetScore + df.Competitor2CurrentSetScore\n",
    "\n",
    "df['Comp1SetScore'] = df.Competitor1CurrentSetScore\n",
    "df['Comp2SetScore'] = df.Competitor2CurrentSetScore\n",
    "\n",
    "# replace both competitor's scores with 6 if 3rd set and tied\n",
    "df.loc[((df.SetScoreDiff==0)&(df.SetScoreSum>13)),('Comp1SetScore','Comp2SetScore')] = 6\n",
    "\n",
    "# give score of 7 for advantage competitor for final sets\n",
    "df.loc[((df.SetScoreDiff==1)&(df.SetScoreSum>13)),'Comp1SetScore'] = 7\n",
    "df.loc[((df.SetScoreDiff==1)&(df.SetScoreSum>13)),'Comp2SetScore'] = 6\n",
    "\n",
    "df.loc[((df.SetScoreDiff==-1)&(df.SetScoreSum>13)),'Comp2SetScore'] = 7\n",
    "df.loc[((df.SetScoreDiff==-1)&(df.SetScoreSum>13)),'Comp1SetScore'] = 6\n"
   ]
  },
  {
   "cell_type": "markdown",
   "metadata": {},
   "source": [
    "##### Get variables with the eventual match, set, and game winner"
   ]
  },
  {
   "cell_type": "code",
   "execution_count": 15,
   "metadata": {
    "collapsed": true
   },
   "outputs": [],
   "source": [
    "# Match\n",
    "df['winMatch1'] = (df['StateOfPlay']=='WinnerCompetitorOne').astype(int)\n",
    "df['comp1WinsMatch'] = df.groupby(['FixtureId'])['winMatch1'].transform('max')\n",
    "\n",
    "# Set (this is messing up somehow and giving me some wrong set probabilities)\n",
    "df['winSet1'] = ((df.SetId.shift(-1) - df.SetId == 1) & \n",
    "                (df.SetScoreDiff>0)).astype(int)\n",
    "df['comp1WinsSet'] = df.groupby(['SetId'])['winSet1'].transform('max')\n",
    "\n",
    "# Game\n",
    "df['winGame1'] = ((df.GameId.shift(-1) - df.GameId == 1) & \n",
    "                (df.GameScoreDiff>0)).astype(int)\n",
    "df['comp1WinsGame'] = df.groupby(['GameId'])['winGame1'].transform('max')"
   ]
  },
  {
   "cell_type": "markdown",
   "metadata": {},
   "source": [
    "##### Now I create sets of probabilities for game, set, and match depending on the score"
   ]
  },
  {
   "cell_type": "code",
   "execution_count": 16,
   "metadata": {},
   "outputs": [
    {
     "data": {
      "text/plain": [
       "Tiebreaker  Serving  Comp1GameScore  Comp2GameScore\n",
       "0           1        0               0                 0.707828\n",
       "                                     1                 0.526262\n",
       "                                     2                 0.304888\n",
       "                                     3                 0.107032\n",
       "                                     4                 0.010811\n",
       "                                     5                 0.000000\n",
       "                                     6                 0.000000\n",
       "                     1               0                 0.825930\n",
       "                                     1                 0.679793\n",
       "                                     2                 0.457541\n",
       "                                     3                 0.198802\n",
       "                                     4                 0.014925\n",
       "                                     5                 0.000000\n",
       "                                     6                 0.000000\n",
       "                                     7                 0.000000\n",
       "                     2               0                 0.920023\n",
       "                                     1                 0.819295\n",
       "                                     2                 0.637436\n",
       "                                     3                 0.340446\n",
       "                                     4                 0.014634\n",
       "                                     5                 0.133333\n",
       "                                     6                 0.000000\n",
       "                                     7                 0.000000\n",
       "                     3               0                 0.979341\n",
       "                                     1                 0.938357\n",
       "                                     2                 0.834185\n",
       "                                     3                 0.605579\n",
       "                                     4                 0.360831\n",
       "                                     5                 0.048544\n",
       "                                     6                 0.000000\n",
       "                                                         ...   \n",
       "1           2        3               0                 0.896104\n",
       "                                     1                 0.806452\n",
       "                                     2                 0.578652\n",
       "                                     3                 0.460396\n",
       "                                     4                 0.281879\n",
       "                                     5                 0.182540\n",
       "                                     6                 0.047619\n",
       "                     4               0                 0.941176\n",
       "                                     1                 0.816000\n",
       "                                     2                 0.760000\n",
       "                                     3                 0.627907\n",
       "                                     4                 0.535714\n",
       "                                     5                 0.246988\n",
       "                                     6                 0.109375\n",
       "                     5               0                 0.956522\n",
       "                                     1                 0.955224\n",
       "                                     2                 0.894309\n",
       "                                     3                 0.810606\n",
       "                                     4                 0.566434\n",
       "                                     5                 0.425150\n",
       "                                     6                 0.144828\n",
       "                     6               0                 1.000000\n",
       "                                     1                 1.000000\n",
       "                                     2                 0.986111\n",
       "                                     3                 0.915789\n",
       "                                     4                 0.837838\n",
       "                                     5                 0.789062\n",
       "                                     6                 0.469636\n",
       "                                     7                 0.158879\n",
       "                     7               6                 0.635036\n",
       "Name: comp1WinsGame, Length: 218, dtype: float64"
      ]
     },
     "execution_count": 16,
     "metadata": {},
     "output_type": "execute_result"
    }
   ],
   "source": [
    "# Match\n",
    "dfMatchProbs = df.groupby(['Competitor1MatchScore','Competitor2MatchScore'])['comp1WinsMatch'].mean()\n",
    "\n",
    "# Set\n",
    "dfSetProbs = df.groupby(['Serving','Comp1SetScore','Comp2SetScore'])['comp1WinsSet'].mean()\n",
    "\n",
    "# There are some anomalies where a tiebreaker is played in the 3rd set of the\n",
    "# match for some reason. We can see some of them using this command\n",
    "#df.loc[(df.Tiebreaker==0)&(df.Comp1GameScore + df.Comp2GameScore>7)]\n",
    "\n",
    "# Game\n",
    "dfGameProbs = df.groupby(['Tiebreaker','Serving','Comp1GameScore','Comp2GameScore'])['comp1WinsGame'].mean()\n",
    "\n",
    "# This shows what I'm doing here, each combination shows the probability of Competitor 1 winning\n",
    "#dfMatchProbs\n",
    "dfGameProbs"
   ]
  },
  {
   "cell_type": "markdown",
   "metadata": {},
   "source": [
    "##### Here I'll showcase how a score input is transformed into a final win probability\n",
    "G (Tiebreaker, Serving, Competitor1GameScore, Competitor2GameScore) = Probability of Competitor 1 Winning the Game\n",
    "\n",
    "S (Serving, Competitor1SetScore, Competitor2SetScore) = Probability of Competitor 1 Winning the Set\n",
    "\n",
    "M (Competitor1MatchScore, Competitor2MatchScore) = Probability of Competitor 1 Winning the Match\n",
    "\n",
    "##### Current Score   \n",
    "Game: 4 - 3, Set: 2 - 4, Match: 1 - 0"
   ]
  },
  {
   "cell_type": "markdown",
   "metadata": {},
   "source": [
    "![Image](https://i.imgur.com/gOnR3GWl.png)"
   ]
  },
  {
   "cell_type": "code",
   "execution_count": 17,
   "metadata": {
    "collapsed": true
   },
   "outputs": [],
   "source": [
    "# take any point in the game and calculate the prob that p1 wins match\n",
    "def getProb(serving, p1g, p2g, p1s, p2s, p1m, p2m, tiebreaker,quiet):\n",
    "    \n",
    "    nextServe = 3 - serving\n",
    "\n",
    "    gameProb = dfGameProbs[(tiebreaker,serving,p1g,p2g)]\n",
    "    \n",
    "    # this takes care of a small bug that occurs from high set scores\n",
    "    try:\n",
    "        setProbW = dfSetProbs[(nextServe,(p1s+1),p2s)]\n",
    "        setProbL = dfSetProbs[(nextServe,p1s,(p2s+1))]\n",
    "    except:\n",
    "        setProbW = dfSetProbs[(nextServe,p1s,(p2s-1))]\n",
    "        setProbL = dfSetProbs[(nextServe,(p1s-1),p2s)]       \n",
    "    \n",
    "    matchProbWW = dfMatchProbs[((p1m+1),p2m)]\n",
    "    matchProbWL = dfMatchProbs[(p1m,(p2m+1))]\n",
    "    matchProbLW = dfMatchProbs[((p1m+1),p2m)]\n",
    "    matchProbLL = dfMatchProbs[(p1m,(p2m+1))]\n",
    "    \n",
    "    #win game, win set, win match\n",
    "    branch1 = gameProb*setProbW*matchProbWW\n",
    "    #win game, lose set, win match\n",
    "    branch2 = gameProb*(1-setProbW)*matchProbWL\n",
    "    #lose game, win set, win match\n",
    "    branch3 = (1-gameProb)*setProbL*matchProbLW\n",
    "    #lose game, lose set, win match\n",
    "    branch4 = (1-gameProb)*(1-setProbL)*matchProbLL\n",
    "    \n",
    "    matchProb = branch1 + branch2 + branch3 + branch4\n",
    "    \n",
    "    #probability of winning the set\n",
    "    setProb = gameProb*setProbW + (1-gameProb)*setProbL\n",
    "    if quiet==False:\n",
    "        print('Serving: Player ' + str(serving) +\n",
    "              '\\nGame Score: ' + str(p1g) + '-' + str(p2g) + \n",
    "              '\\nSet Score: ' + str(p1s) + '-' + str(p2s) +  \n",
    "              '\\nMatch Score: ' + str(p1m) + '-' + str(p2m))\n",
    "        print('Probability of winning the game: ' + str(gameProb) + \n",
    "              '\\nProbability of winning the set: ' + str(setProb) + \n",
    "              '\\nProbability of winning the match: ' + (str(matchProb)))\n",
    "    \n",
    "    return [gameProb,setProb,matchProb]"
   ]
  },
  {
   "cell_type": "code",
   "execution_count": 18,
   "metadata": {},
   "outputs": [
    {
     "name": "stdout",
     "output_type": "stream",
     "text": [
      "Serving: Player 1\n",
      "Game Score: 4-3\n",
      "Set Score: 2-4\n",
      "Match Score: 1-0\n",
      "Probability of winning the game: 0.852485807672\n",
      "Probability of winning the set: 0.124145572009\n",
      "Probability of winning the match: 0.583261867357\n"
     ]
    },
    {
     "data": {
      "text/plain": [
       "[0.8524858076724583, 0.1241455720092187, 0.58326186735723784]"
      ]
     },
     "execution_count": 18,
     "metadata": {},
     "output_type": "execute_result"
    }
   ],
   "source": [
    "getProb(1,4,3,2,4,1,0,0,False)"
   ]
  },
  {
   "cell_type": "code",
   "execution_count": 19,
   "metadata": {
    "collapsed": true
   },
   "outputs": [],
   "source": [
    "#A function that will print out live probabilities as points are played\n",
    "def playGame(i,time,quiet):\n",
    "    ID = df.FixtureId[i]\n",
    "    plotting = pd.DataFrame(columns=['matchProb'],index=np.arange(0))\n",
    "    while df.loc[i,'FixtureId']==ID:\n",
    "        \n",
    "        serving = df.Serving[i]\n",
    "        p1g = df.Comp1GameScore[i]\n",
    "        p2g = df.Comp2GameScore[i]\n",
    "        p1s = df.Comp1SetScore[i]\n",
    "        p2s = df.Comp2SetScore[i]\n",
    "        p1m = df.Competitor1MatchScore[i]\n",
    "        p2m = df.Competitor2MatchScore[i]\n",
    "        tiebreaker = df.Tiebreaker[i]\n",
    "        try:\n",
    "            probs = getProb(serving, p1g, p2g, p1s, p2s, p1m, p2m, tiebreaker,quiet)\n",
    "            plotting.loc[(i),'matchProb'] = probs[2]\n",
    "        except:\n",
    "            if quiet==False:\n",
    "                print('error')\n",
    "                print('Serving: Player ' + str(serving) +\n",
    "                  '\\nGame Score: ' + str(p1g) + '-' + str(p2g) + \n",
    "                  '\\nSet Score: ' + str(p1s) + '-' + str(p2s) +  \n",
    "                  '\\nMatch Score: ' + str(p1m) + '-' + str(p2m) +\n",
    "                  '\\nTiebreaker: ' + str(tiebreaker))\n",
    "                plotting.loc[(i),'matchProb'] = plotting.loc[((i)-1),'matchProb']\n",
    "        if quiet==False:\n",
    "            print('row ' + str(i) + '\\n')\n",
    "        tm.sleep(time)\n",
    "        i += 1\n",
    "    return plotting"
   ]
  },
  {
   "cell_type": "code",
   "execution_count": 20,
   "metadata": {
    "collapsed": true
   },
   "outputs": [],
   "source": [
    "# Going through a game I picked randomly\n",
    "plotting = playGame(0,0,True)   "
   ]
  },
  {
   "cell_type": "code",
   "execution_count": 24,
   "metadata": {},
   "outputs": [
    {
     "data": {
      "image/png": "[encoded data removed]",
      "text/plain": [
       "<matplotlib.figure.Figure at 0xbbc5390>"
      ]
     },
     "metadata": {},
     "output_type": "display_data"
    }
   ],
   "source": [
    "plt.plot(plotting.index,plotting)\n",
    "plt.axis(ymin=0,ymax=1)\n",
    "plt.title('Probability of Competitor 1 Winning')\n",
    "plt.show()"
   ]
  },
  {
   "cell_type": "markdown",
   "metadata": {},
   "source": [
    "### Evaluation\n",
    "##### Upsides\n",
    "•\tWith a lot of data, could get really accurate  \n",
    "•\tRuns really fast  \n",
    "•\tNon parametric, so feature distributions don’t matter as much\n",
    "##### Downsides\n",
    "•\tSort of like a stupidly over-fitted ML model  \n",
    "•\tA bit buggy – lots of time and care to code  \n",
    "•\tHave to limit feature set, taking additional features will hurt accuracy\n",
    "##### Outlook\n",
    "•\tFun exercise but validating and improving beyond a basic Machine Learning model is probably going to be quite time consuming"
   ]
  },
  {
   "cell_type": "markdown",
   "metadata": {},
   "source": [
    "## Method 3: Machine Learning Approach\n",
    "##### Here I use a few simple sklearn packages to fit a model and test the accuracy of the predictions. I don't make any direct comparisions with Approach 1 in terms of accuracy for two reasons: 1) The Data Mining approach is a little like forcing a perfect over-fit model so accuracy will be high there but not generalizable, 2) The Data Mining approach still contains some bugs that cause a few prediction cells missing for matches with certain characteristics.\n",
    "##### Due to time, data, and hardware constraints I only do exploratory analysis. I'm also not cleaning the data because each row is treated as independent (and shuffled for training) in these methods. Sequence doesn't matter in the slightest here so having small, incomplete snapshots of matches is still valuable information for these classifiers."
   ]
  },
  {
   "cell_type": "code",
   "execution_count": 146,
   "metadata": {
    "collapsed": true
   },
   "outputs": [],
   "source": [
    "from sklearn.ensemble import RandomForestClassifier\n",
    "from sklearn.ensemble import ExtraTreesClassifier\n",
    "from sklearn.neural_network import MLPClassifier\n",
    "\n",
    "from sklearn.metrics import mean_squared_error\n",
    "from sklearn.model_selection import GridSearchCV\n",
    "from sklearn.model_selection import train_test_split\n",
    "\n",
    "path = 'C:/Users/u5677455/Dropbox/DataSciencePortfolio/GeniusSports/Data/'\n",
    "\n",
    "df = pd.read_csv(path+'tennis_match_data.csv')"
   ]
  },
  {
   "cell_type": "markdown",
   "metadata": {},
   "source": [
    "##### Create binary variables for StateOfPlay values, and create a variable for who eventually wins the match"
   ]
  },
  {
   "cell_type": "code",
   "execution_count": 147,
   "metadata": {
    "collapsed": true
   },
   "outputs": [],
   "source": [
    "for x in df.StateOfPlay.unique():\n",
    "    df[(x)] = (df.StateOfPlay==(x)).astype(int)\n",
    "    \n",
    "df['win1'] = (df['StateOfPlay']=='WinnerCompetitorOne').astype(int)\n",
    "df['win1'] = df.groupby(['FixtureId'])['win1'].transform('max')"
   ]
  },
  {
   "cell_type": "code",
   "execution_count": 148,
   "metadata": {
    "collapsed": true
   },
   "outputs": [],
   "source": [
    "#Create X and y, then split into training and test samples\n",
    "#I'd normally include a cross-validation but here I'm just using GridSearch for parameter optimization which automatically splits the training sample to validate\n",
    "X = df.loc[:,('Competitor1CurrentGameScorePoints',\n",
    "       'Competitor1CurrentSetScore', 'Competitor1MatchScore',\n",
    "       'Competitor2CurrentGameScorePoints', 'Competitor2CurrentSetScore',\n",
    "       'Competitor2MatchScore', 'Serving', 'PointInProgress',\n",
    "       'BetweenPoints', 'WinnerCompetitorTwo', 'WinnerCompetitorOne',\n",
    "       'ShortDelay', 'PlaySuspended', 'Challenge',\n",
    "       'MedicalTimeoutCompetitorTwo', 'MedicalTimeoutCompetitorOne')]\n",
    "y = df.loc[:,'win1']\n",
    "\n",
    "X_train, X_test, y_train, y_test = train_test_split(X, y, test_size=0.3, random_state=0)"
   ]
  },
  {
   "cell_type": "markdown",
   "metadata": {},
   "source": [
    "##### Limited to Random Forests, Extra Trees, and Neural Network because they obtained the highest accuracy"
   ]
  },
  {
   "cell_type": "code",
   "execution_count": 149,
   "metadata": {},
   "outputs": [
    {
     "name": "stdout",
     "output_type": "stream",
     "text": [
      "Random Forest Accuracy: 0.738989159818\n",
      "Random Forests 1 MSE: 0.17\n",
      "Extra Trees Accuracy: 0.738890860934\n",
      "Extra Trees 1 MSE: 0.17\n",
      "Neural Net Accuracy: 0.742795511018\n",
      "Neural Net 1 MSE: 0.167\n"
     ]
    }
   ],
   "source": [
    "#Random Forests\n",
    "#Pretty quick\n",
    "clf = RandomForestClassifier()\n",
    "clf.fit(X_train,y_train)\n",
    "print('Random Forest Accuracy: ' + str(clf.score(X_test, y_test)))\n",
    "RF1_Prob = (clf.predict_proba(X_test))[:,1]\n",
    "print('Random Forests 1 MSE: ' + str(round(mean_squared_error(y_test,RF1_Prob),3)))\n",
    "\n",
    "#Extra Trees\n",
    "#Pretty quick\n",
    "clf = ExtraTreesClassifier()\n",
    "clf.fit(X_train,y_train)\n",
    "print('Extra Trees Accuracy: ' + str(clf.score(X_test, y_test)))\n",
    "ET1_Prob = clf.predict_proba(X_test)[:,1]\n",
    "print('Extra Trees 1 MSE: ' + str(round(mean_squared_error(y_test,ET1_Prob),3)))\n",
    "\n",
    "#Neural Net\n",
    "#Slower but a bit more accurate\n",
    "clf = MLPClassifier()\n",
    "clf.fit(X_train,y_train)\n",
    "print('Neural Net Accuracy: ' + str(clf.score(X_test, y_test)))\n",
    "NN1_Prob = clf.predict_proba(X_test)[:,1]\n",
    "print('Neural Net 1 MSE: ' + str(round(mean_squared_error(y_test,NN1_Prob),3)))"
   ]
  },
  {
   "cell_type": "code",
   "execution_count": 150,
   "metadata": {},
   "outputs": [
    {
     "name": "stdout",
     "output_type": "stream",
     "text": [
      "MSE Voting Error: 0.168\n"
     ]
    }
   ],
   "source": [
    "#Check if doing an average MSE system improves accuracy\n",
    "Vote1MSE = ((RF1_Prob+ET1_Prob+NN1_Prob)/3) #this is worse than just ET2 again\n",
    "print('MSE Voting Error: ' + str(round(mean_squared_error(y_test,Vote1MSE),3))) #actually does worse"
   ]
  },
  {
   "cell_type": "code",
   "execution_count": 152,
   "metadata": {},
   "outputs": [
    {
     "data": {
      "image/png": "[encoded data removed]",
      "text/plain": [
       "<matplotlib.figure.Figure at 0xac5c828>"
      ]
     },
     "metadata": {},
     "output_type": "display_data"
    }
   ],
   "source": [
    "df['PlotPredict'] = clf.predict_proba(X)[:,1]\n",
    "\n",
    "plt.plot(df.loc[0:239,'PlotPredict'])\n",
    "plt.axis(ymin=0,ymsax=1)\n",
    "plt.title('Player 1 Win Probability\\nNeural Net')\n",
    "plt.show()"
   ]
  },
  {
   "cell_type": "code",
   "execution_count": 83,
   "metadata": {},
   "outputs": [
    {
     "data": {
      "image/png": "[encoded data removed]",
      "text/plain": [
       "<matplotlib.figure.Figure at 0xb0b5358>"
      ]
     },
     "metadata": {},
     "output_type": "display_data"
    }
   ],
   "source": [
    "df['PlotPredict'] = clf.predict_proba(X)[:,1]\n",
    "\n",
    "plt.plot(df.loc[33037:33141,'PlotPredict'])\n",
    "plt.plot(plotting.index,plotting)\n",
    "plt.axis(ymin=0,ymax=1)\n",
    "plt.title('Player 1 Win Probability\\nNeural Net (Blue) vs Data Mining (Orange)')\n",
    "plt.show()"
   ]
  },
  {
   "cell_type": "markdown",
   "metadata": {},
   "source": [
    "##### Wondered if time spent on feature engineering would yield better results."
   ]
  },
  {
   "cell_type": "code",
   "execution_count": 90,
   "metadata": {
    "collapsed": true
   },
   "outputs": [],
   "source": [
    "#Points won up to that point in the match - something like a point differential\n",
    "df['c2point'] = ((df.Competitor2CurrentGameScorePoints.shift(-1) - df.Competitor2CurrentGameScorePoints == 1)).astype(int)\n",
    "df['c1point'] = ((df.Competitor1CurrentGameScorePoints.shift(-1) - df.Competitor1CurrentGameScorePoints == 1)).astype(int)\n",
    "\n",
    "df['c2PointsWon'] = df.groupby('FixtureId')['c2point'].cumsum()\n",
    "df['c1PointsWon'] = df.groupby('FixtureId')['c1point'].cumsum()\n",
    "df['pointRatio'] = (df.c2PointsWon+1)/(df.c1PointsWon+1)\n",
    "#df['pointRatio'] = (df.c2PointsWon-df.c1PointsWon)"
   ]
  },
  {
   "cell_type": "code",
   "execution_count": 91,
   "metadata": {
    "collapsed": true
   },
   "outputs": [],
   "source": [
    "X = df.loc[:,('Competitor1CurrentGameScorePoints',\n",
    "       'Competitor1CurrentSetScore', 'Competitor1MatchScore',\n",
    "       'Competitor2CurrentGameScorePoints', 'Competitor2CurrentSetScore',\n",
    "       'Competitor2MatchScore', 'Serving', 'PointInProgress',\n",
    "       'BetweenPoints', 'WinnerCompetitorTwo', 'WinnerCompetitorOne',\n",
    "       'ShortDelay', 'PlaySuspended', 'Challenge',\n",
    "       'MedicalTimeoutCompetitorTwo', 'MedicalTimeoutCompetitorOne','pointRatio')]\n",
    "\n",
    "X_train, X_test, y_train, y_test = train_test_split(X, y, test_size=0.3, random_state=0)"
   ]
  },
  {
   "cell_type": "code",
   "execution_count": 113,
   "metadata": {},
   "outputs": [
    {
     "name": "stdout",
     "output_type": "stream",
     "text": [
      "Neural Net Accuracy: 0.744952625399\n",
      "Neural Net 1 MSE: 0.166\n"
     ]
    }
   ],
   "source": [
    "#Neural Net\n",
    "#A small increase in accuracy from the extra information\n",
    "clf = MLPClassifier()\n",
    "clf.fit(X_train,y_train)\n",
    "print('Neural Net Accuracy: ' + str(clf.score(X_test, y_test)))\n",
    "NN1_Prob = clf.predict_proba(X_test)[:,1]\n",
    "print('Neural Net 1 MSE: ' + str(round(mean_squared_error(y_test,NN1_Prob),3)))"
   ]
  },
  {
   "cell_type": "markdown",
   "metadata": {},
   "source": [
    "Overall, doesn't appear that feature engineering in this manner is likely to bear fruit. However, with GPU support it's possible to add variables containing the sequence of points which would give the algorithm close to the maximum amount of information from this data possible. It would add at least 250 new features.  \n",
    "##### GridSearch Parameter Tuning"
   ]
  },
  {
   "cell_type": "code",
   "execution_count": 114,
   "metadata": {},
   "outputs": [
    {
     "name": "stdout",
     "output_type": "stream",
     "text": [
      "{'max_depth': 15, 'max_features': 5, 'n_estimators': 200}\n",
      "Random Forest Grid Search MSE: 0.165\n"
     ]
    }
   ],
   "source": [
    "rf = RandomForestClassifier()\n",
    "rf_params = {'n_estimators': [100,150,200], \n",
    "             'max_features': [3,5,7], \n",
    "             'max_depth': [10,15,20]}\n",
    "\n",
    "grid_rf = GridSearchCV(rf, param_grid = rf_params, scoring='roc_auc')\n",
    "grid_rf.fit(X_train, y_train)\n",
    "RFGrid_Prob = grid_rf.predict_proba(X_test)[:,1]\n",
    "print(grid_rf.best_params_)\n",
    "print('Random Forest Grid Search MSE: ' + str(round(mean_squared_error(y_test,RFGrid_Prob),3)))"
   ]
  },
  {
   "cell_type": "code",
   "execution_count": 94,
   "metadata": {},
   "outputs": [
    {
     "name": "stdout",
     "output_type": "stream",
     "text": [
      "{'max_depth': 15, 'max_features': 7, 'n_estimators': 200}\n",
      "Extra Trees 2 Grid Search MSE: 0.165\n"
     ]
    }
   ],
   "source": [
    "et = ExtraTreesClassifier()\n",
    "et_params = {'n_estimators': [100,150,200], \n",
    "             'max_features': [3,5,7], \n",
    "             'max_depth': [10,15,20]}\n",
    "\n",
    "grid_et = GridSearchCV(et, param_grid = et_params, scoring='roc_auc')\n",
    "grid_et.fit(X_train, y_train)\n",
    "ETGrid_Prob = grid_et.predict_proba(X_test)[:,1]\n",
    "print(grid_et.best_params_)\n",
    "print('Extra Trees 2 Grid Search MSE: ' + str(round(mean_squared_error(y_test,ETGrid_Prob),3)))"
   ]
  },
  {
   "cell_type": "code",
   "execution_count": 99,
   "metadata": {},
   "outputs": [
    {
     "name": "stdout",
     "output_type": "stream",
     "text": [
      "{'alpha': 0.0001, 'early_stopping': True, 'hidden_layer_sizes': (100, 100, 100, 100, 100, 100, 100), 'learning_rate': 'constant', 'learning_rate_init': 0.001}\n",
      "Neural Net Grid Search MSE: 0.165\n"
     ]
    }
   ],
   "source": [
    "nn = MLPClassifier()\n",
    "nn_params = {'hidden_layer_sizes': [(100,100,100,100,100,100,100),\n",
    "             (500),(500,500,500,500,500),(1000)],\n",
    "             'alpha': [.00003,.0001,.0003],\n",
    "             'learning_rate': ['constant'],\n",
    "             'learning_rate_init': [.0003,.001,.003],\n",
    "             'early_stopping': [True]}\n",
    "\n",
    "grid_nn = GridSearchCV(nn, param_grid = nn_params, scoring='roc_auc')\n",
    "grid_nn.fit(X_train, y_train)\n",
    "NNGrid_Prob = grid_nn.predict_proba(X_test)[:,1]\n",
    "print(grid_nn.best_params_)\n",
    "print('Neural Net Grid Search MSE: ' + str(round(mean_squared_error(y_test,NNGrid_Prob),3)))"
   ]
  },
  {
   "cell_type": "code",
   "execution_count": 107,
   "metadata": {
    "collapsed": true
   },
   "outputs": [],
   "source": [
    "NNGrid_Prob = grid_nn.predict_proba(X)[:,1]\n",
    "ETGrid_Prob = grid_et.predict_proba(X)[:,1]\n",
    "RFGrid_Prob = grid_rf.predict_proba(X)[:,1]"
   ]
  },
  {
   "cell_type": "code",
   "execution_count": 112,
   "metadata": {},
   "outputs": [
    {
     "data": {
      "image/png": "[encoded data removed]",
      "text/plain": [
       "<matplotlib.figure.Figure at 0xabdf128>"
      ]
     },
     "metadata": {},
     "output_type": "display_data"
    }
   ],
   "source": [
    "plt.plot(RFGrid_Prob[33037:33141])\n",
    "plt.plot(ETGrid_Prob[33037:33141])\n",
    "plt.plot(NNGrid_Prob[33037:33141])\n",
    "plt.plot(np.array(df.loc[33037:33141,'PlotPredict']))\n",
    "plt.axis(ymin=0,ymax=1)\n",
    "plt.title('Player 1 Win Probability\\nRF - Blue, ET - Orange, NN - Green, DM - Red')\n",
    "plt.show()"
   ]
  },
  {
   "cell_type": "markdown",
   "metadata": {},
   "source": [
    "### Evaluation\n",
    "##### Upsides\n",
    "•\tWith GPU support could add point sequence and scores from games leading up to get the most detailed picture possible  \n",
    "•\tWith player-specific data this could get incredibly accurate  \n",
    "•\tEasy to validate  \n",
    "•\tComplete (will provide estimates for any combination of inputs)  \n",
    "•\tNeural Nets can infer feature distributions from the data\n",
    "##### Downsides\n",
    "•\tComputationally intensive  \n",
    "•\tLeast transparent (especially Neural Nets)  \n",
    "•\tRandom Forests prone to overfitting, and can't generalize past current data\n",
    "##### Outlook\n",
    "•\tWith more data and better hardware this approach can probably get extremely accurate with comparatively little explicit coding."
   ]
  },
  {
   "cell_type": "markdown",
   "metadata": {},
   "source": [
    "## Final Recommendation\n",
    "\n",
    "#### If additional time were allotted to this task, I'd recommend pursuing the Neural Network, trying variations (CNN, RNN, etc), and adding sequential features."
   ]
  }
 ],
 "metadata": {
  "kernelspec": {
   "display_name": "Python 3",
   "language": "python",
   "name": "python3"
  },
  "language_info": {
   "codemirror_mode": {
    "name": "ipython",
    "version": 3
   },
   "file_extension": ".py",
   "mimetype": "text/x-python",
   "name": "python",
   "nbconvert_exporter": "python",
   "pygments_lexer": "ipython3",
   "version": "3.6.3"
  }
 },
 "nbformat": 4,
 "nbformat_minor": 2
}
